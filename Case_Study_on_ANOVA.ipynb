{
  "nbformat": 4,
  "nbformat_minor": 0,
  "metadata": {
    "colab": {
      "name": "Case Study on ANOVA",
      "provenance": [],
      "collapsed_sections": []
    },
    "kernelspec": {
      "name": "python3",
      "display_name": "Python 3"
    },
    "language_info": {
      "name": "python"
    }
  },
  "cells": [
    {
      "cell_type": "markdown",
      "metadata": {
        "id": "TwDEVkSs9gu4"
      },
      "source": [
        ""
      ]
    },
    {
      "cell_type": "code",
      "metadata": {
        "id": "Rv7Q3TqYLEz_"
      },
      "source": [
        "# import all libraries required\n",
        "import pandas as pd\n",
        "import numpy as np\n",
        "import matplotlib.pyplot as plt\n",
        "import seaborn as sns\n",
        "from numpy import percentile\n",
        "from scipy import stats\n",
        "import scipy.stats as scp"
      ],
      "execution_count": 21,
      "outputs": []
    },
    {
      "cell_type": "code",
      "metadata": {
        "colab": {
          "base_uri": "https://localhost:8080/"
        },
        "id": "HnD5eRDJ6X0t",
        "outputId": "36982425-11c6-494a-f6e9-648b39a24711"
      },
      "source": [
        "from google.colab import drive\n",
        "drive.mount('/content/drive')"
      ],
      "execution_count": 22,
      "outputs": [
        {
          "output_type": "stream",
          "name": "stdout",
          "text": [
            "Drive already mounted at /content/drive; to attempt to forcibly remount, call drive.mount(\"/content/drive\", force_remount=True).\n"
          ]
        }
      ]
    },
    {
      "cell_type": "code",
      "metadata": {
        "id": "io_eqgBzWyg-",
        "colab": {
          "base_uri": "https://localhost:8080/",
          "height": 655
        },
        "outputId": "f0907701-0adf-45c8-8aa9-625e8ba19fad"
      },
      "source": [
        "#Load the csv files into pandas dataframe\n",
        "Salesdata=pd.read_csv('/content/drive/My Drive/Colab Notebooks/Sales_data_zone_wise.csv')\n",
        "#Display the dataset\n",
        "Salesdata\n",
        "\n",
        "\n"
      ],
      "execution_count": 23,
      "outputs": [
        {
          "output_type": "execute_result",
          "data": {
            "text/html": [
              "\n",
              "  <div id=\"df-10ff0a95-4a5e-457f-abb3-03e36799513e\">\n",
              "    <div class=\"colab-df-container\">\n",
              "      <div>\n",
              "<style scoped>\n",
              "    .dataframe tbody tr th:only-of-type {\n",
              "        vertical-align: middle;\n",
              "    }\n",
              "\n",
              "    .dataframe tbody tr th {\n",
              "        vertical-align: top;\n",
              "    }\n",
              "\n",
              "    .dataframe thead th {\n",
              "        text-align: right;\n",
              "    }\n",
              "</style>\n",
              "<table border=\"1\" class=\"dataframe\">\n",
              "  <thead>\n",
              "    <tr style=\"text-align: right;\">\n",
              "      <th></th>\n",
              "      <th>Month</th>\n",
              "      <th>Zone - A</th>\n",
              "      <th>Zone - B</th>\n",
              "      <th>Zone - C</th>\n",
              "      <th>Zone - D</th>\n",
              "    </tr>\n",
              "  </thead>\n",
              "  <tbody>\n",
              "    <tr>\n",
              "      <th>0</th>\n",
              "      <td>Month - 1</td>\n",
              "      <td>1483525</td>\n",
              "      <td>1748451</td>\n",
              "      <td>1523308</td>\n",
              "      <td>2267260</td>\n",
              "    </tr>\n",
              "    <tr>\n",
              "      <th>1</th>\n",
              "      <td>Month - 2</td>\n",
              "      <td>1238428</td>\n",
              "      <td>1707421</td>\n",
              "      <td>2212113</td>\n",
              "      <td>1994341</td>\n",
              "    </tr>\n",
              "    <tr>\n",
              "      <th>2</th>\n",
              "      <td>Month - 3</td>\n",
              "      <td>1860771</td>\n",
              "      <td>2091194</td>\n",
              "      <td>1282374</td>\n",
              "      <td>1241600</td>\n",
              "    </tr>\n",
              "    <tr>\n",
              "      <th>3</th>\n",
              "      <td>Month - 4</td>\n",
              "      <td>1871571</td>\n",
              "      <td>1759617</td>\n",
              "      <td>2290580</td>\n",
              "      <td>2252681</td>\n",
              "    </tr>\n",
              "    <tr>\n",
              "      <th>4</th>\n",
              "      <td>Month - 5</td>\n",
              "      <td>1244922</td>\n",
              "      <td>1606010</td>\n",
              "      <td>1818334</td>\n",
              "      <td>1326062</td>\n",
              "    </tr>\n",
              "    <tr>\n",
              "      <th>5</th>\n",
              "      <td>Month - 6</td>\n",
              "      <td>1534390</td>\n",
              "      <td>1573128</td>\n",
              "      <td>1751825</td>\n",
              "      <td>2292044</td>\n",
              "    </tr>\n",
              "    <tr>\n",
              "      <th>6</th>\n",
              "      <td>Month - 7</td>\n",
              "      <td>1820196</td>\n",
              "      <td>1992031</td>\n",
              "      <td>1786826</td>\n",
              "      <td>1688055</td>\n",
              "    </tr>\n",
              "    <tr>\n",
              "      <th>7</th>\n",
              "      <td>Month - 8</td>\n",
              "      <td>1625696</td>\n",
              "      <td>1665534</td>\n",
              "      <td>2161754</td>\n",
              "      <td>2363315</td>\n",
              "    </tr>\n",
              "    <tr>\n",
              "      <th>8</th>\n",
              "      <td>Month - 9</td>\n",
              "      <td>1652644</td>\n",
              "      <td>1873402</td>\n",
              "      <td>1755290</td>\n",
              "      <td>1422059</td>\n",
              "    </tr>\n",
              "    <tr>\n",
              "      <th>9</th>\n",
              "      <td>Month - 10</td>\n",
              "      <td>1852450</td>\n",
              "      <td>1913059</td>\n",
              "      <td>1754314</td>\n",
              "      <td>1608387</td>\n",
              "    </tr>\n",
              "    <tr>\n",
              "      <th>10</th>\n",
              "      <td>Month - 11</td>\n",
              "      <td>2004480</td>\n",
              "      <td>1740365</td>\n",
              "      <td>1317869</td>\n",
              "      <td>1970069</td>\n",
              "    </tr>\n",
              "    <tr>\n",
              "      <th>11</th>\n",
              "      <td>Month - 12</td>\n",
              "      <td>1537539</td>\n",
              "      <td>1875658</td>\n",
              "      <td>1237722</td>\n",
              "      <td>1460165</td>\n",
              "    </tr>\n",
              "    <tr>\n",
              "      <th>12</th>\n",
              "      <td>Month - 13</td>\n",
              "      <td>1254939</td>\n",
              "      <td>1588473</td>\n",
              "      <td>1348629</td>\n",
              "      <td>1733383</td>\n",
              "    </tr>\n",
              "    <tr>\n",
              "      <th>13</th>\n",
              "      <td>Month - 14</td>\n",
              "      <td>1821799</td>\n",
              "      <td>1844081</td>\n",
              "      <td>1617376</td>\n",
              "      <td>1872259</td>\n",
              "    </tr>\n",
              "    <tr>\n",
              "      <th>14</th>\n",
              "      <td>Month - 15</td>\n",
              "      <td>1128185</td>\n",
              "      <td>1804613</td>\n",
              "      <td>1767047</td>\n",
              "      <td>1234311</td>\n",
              "    </tr>\n",
              "    <tr>\n",
              "      <th>15</th>\n",
              "      <td>Month - 16</td>\n",
              "      <td>1491534</td>\n",
              "      <td>1542053</td>\n",
              "      <td>1882159</td>\n",
              "      <td>1590913</td>\n",
              "    </tr>\n",
              "    <tr>\n",
              "      <th>16</th>\n",
              "      <td>Month - 17</td>\n",
              "      <td>1182110</td>\n",
              "      <td>1552388</td>\n",
              "      <td>2234469</td>\n",
              "      <td>2180416</td>\n",
              "    </tr>\n",
              "    <tr>\n",
              "      <th>17</th>\n",
              "      <td>Month - 18</td>\n",
              "      <td>1770324</td>\n",
              "      <td>1699213</td>\n",
              "      <td>1249821</td>\n",
              "      <td>2364132</td>\n",
              "    </tr>\n",
              "    <tr>\n",
              "      <th>18</th>\n",
              "      <td>Month - 19</td>\n",
              "      <td>1181635</td>\n",
              "      <td>1959268</td>\n",
              "      <td>2009168</td>\n",
              "      <td>1821882</td>\n",
              "    </tr>\n",
              "    <tr>\n",
              "      <th>19</th>\n",
              "      <td>Month - 20</td>\n",
              "      <td>1305972</td>\n",
              "      <td>1559670</td>\n",
              "      <td>2107949</td>\n",
              "      <td>2151008</td>\n",
              "    </tr>\n",
              "    <tr>\n",
              "      <th>20</th>\n",
              "      <td>Month - 21</td>\n",
              "      <td>1570152</td>\n",
              "      <td>2013615</td>\n",
              "      <td>1540016</td>\n",
              "      <td>2265814</td>\n",
              "    </tr>\n",
              "    <tr>\n",
              "      <th>21</th>\n",
              "      <td>Month - 22</td>\n",
              "      <td>1481619</td>\n",
              "      <td>1527574</td>\n",
              "      <td>2255729</td>\n",
              "      <td>2295079</td>\n",
              "    </tr>\n",
              "    <tr>\n",
              "      <th>22</th>\n",
              "      <td>Month - 23</td>\n",
              "      <td>1887694</td>\n",
              "      <td>1992155</td>\n",
              "      <td>1348387</td>\n",
              "      <td>1459683</td>\n",
              "    </tr>\n",
              "    <tr>\n",
              "      <th>23</th>\n",
              "      <td>Month - 24</td>\n",
              "      <td>1880820</td>\n",
              "      <td>1752873</td>\n",
              "      <td>2098463</td>\n",
              "      <td>2052591</td>\n",
              "    </tr>\n",
              "    <tr>\n",
              "      <th>24</th>\n",
              "      <td>Month - 25</td>\n",
              "      <td>1256333</td>\n",
              "      <td>1622671</td>\n",
              "      <td>1521792</td>\n",
              "      <td>1695122</td>\n",
              "    </tr>\n",
              "    <tr>\n",
              "      <th>25</th>\n",
              "      <td>Month - 26</td>\n",
              "      <td>1422853</td>\n",
              "      <td>1715465</td>\n",
              "      <td>1853636</td>\n",
              "      <td>1520406</td>\n",
              "    </tr>\n",
              "    <tr>\n",
              "      <th>26</th>\n",
              "      <td>Month - 27</td>\n",
              "      <td>1384426</td>\n",
              "      <td>1983163</td>\n",
              "      <td>1611169</td>\n",
              "      <td>1289160</td>\n",
              "    </tr>\n",
              "    <tr>\n",
              "      <th>27</th>\n",
              "      <td>Month - 28</td>\n",
              "      <td>1616640</td>\n",
              "      <td>1547991</td>\n",
              "      <td>2128022</td>\n",
              "      <td>2178267</td>\n",
              "    </tr>\n",
              "    <tr>\n",
              "      <th>28</th>\n",
              "      <td>Month - 29</td>\n",
              "      <td>1310654</td>\n",
              "      <td>1660092</td>\n",
              "      <td>1947119</td>\n",
              "      <td>1854412</td>\n",
              "    </tr>\n",
              "  </tbody>\n",
              "</table>\n",
              "</div>\n",
              "      <button class=\"colab-df-convert\" onclick=\"convertToInteractive('df-10ff0a95-4a5e-457f-abb3-03e36799513e')\"\n",
              "              title=\"Convert this dataframe to an interactive table.\"\n",
              "              style=\"display:none;\">\n",
              "        \n",
              "  <svg xmlns=\"http://www.w3.org/2000/svg\" height=\"24px\"viewBox=\"0 0 24 24\"\n",
              "       width=\"24px\">\n",
              "    <path d=\"M0 0h24v24H0V0z\" fill=\"none\"/>\n",
              "    <path d=\"M18.56 5.44l.94 2.06.94-2.06 2.06-.94-2.06-.94-.94-2.06-.94 2.06-2.06.94zm-11 1L8.5 8.5l.94-2.06 2.06-.94-2.06-.94L8.5 2.5l-.94 2.06-2.06.94zm10 10l.94 2.06.94-2.06 2.06-.94-2.06-.94-.94-2.06-.94 2.06-2.06.94z\"/><path d=\"M17.41 7.96l-1.37-1.37c-.4-.4-.92-.59-1.43-.59-.52 0-1.04.2-1.43.59L10.3 9.45l-7.72 7.72c-.78.78-.78 2.05 0 2.83L4 21.41c.39.39.9.59 1.41.59.51 0 1.02-.2 1.41-.59l7.78-7.78 2.81-2.81c.8-.78.8-2.07 0-2.86zM5.41 20L4 18.59l7.72-7.72 1.47 1.35L5.41 20z\"/>\n",
              "  </svg>\n",
              "      </button>\n",
              "      \n",
              "  <style>\n",
              "    .colab-df-container {\n",
              "      display:flex;\n",
              "      flex-wrap:wrap;\n",
              "      gap: 12px;\n",
              "    }\n",
              "\n",
              "    .colab-df-convert {\n",
              "      background-color: #E8F0FE;\n",
              "      border: none;\n",
              "      border-radius: 50%;\n",
              "      cursor: pointer;\n",
              "      display: none;\n",
              "      fill: #1967D2;\n",
              "      height: 32px;\n",
              "      padding: 0 0 0 0;\n",
              "      width: 32px;\n",
              "    }\n",
              "\n",
              "    .colab-df-convert:hover {\n",
              "      background-color: #E2EBFA;\n",
              "      box-shadow: 0px 1px 2px rgba(60, 64, 67, 0.3), 0px 1px 3px 1px rgba(60, 64, 67, 0.15);\n",
              "      fill: #174EA6;\n",
              "    }\n",
              "\n",
              "    [theme=dark] .colab-df-convert {\n",
              "      background-color: #3B4455;\n",
              "      fill: #D2E3FC;\n",
              "    }\n",
              "\n",
              "    [theme=dark] .colab-df-convert:hover {\n",
              "      background-color: #434B5C;\n",
              "      box-shadow: 0px 1px 3px 1px rgba(0, 0, 0, 0.15);\n",
              "      filter: drop-shadow(0px 1px 2px rgba(0, 0, 0, 0.3));\n",
              "      fill: #FFFFFF;\n",
              "    }\n",
              "  </style>\n",
              "\n",
              "      <script>\n",
              "        const buttonEl =\n",
              "          document.querySelector('#df-10ff0a95-4a5e-457f-abb3-03e36799513e button.colab-df-convert');\n",
              "        buttonEl.style.display =\n",
              "          google.colab.kernel.accessAllowed ? 'block' : 'none';\n",
              "\n",
              "        async function convertToInteractive(key) {\n",
              "          const element = document.querySelector('#df-10ff0a95-4a5e-457f-abb3-03e36799513e');\n",
              "          const dataTable =\n",
              "            await google.colab.kernel.invokeFunction('convertToInteractive',\n",
              "                                                     [key], {});\n",
              "          if (!dataTable) return;\n",
              "\n",
              "          const docLinkHtml = 'Like what you see? Visit the ' +\n",
              "            '<a target=\"_blank\" href=https://colab.research.google.com/notebooks/data_table.ipynb>data table notebook</a>'\n",
              "            + ' to learn more about interactive tables.';\n",
              "          element.innerHTML = '';\n",
              "          dataTable['output_type'] = 'display_data';\n",
              "          await google.colab.output.renderOutput(dataTable, element);\n",
              "          const docLink = document.createElement('div');\n",
              "          docLink.innerHTML = docLinkHtml;\n",
              "          element.appendChild(docLink);\n",
              "        }\n",
              "      </script>\n",
              "    </div>\n",
              "  </div>\n",
              "  "
            ],
            "text/plain": [
              "         Month  Zone - A  Zone - B  Zone - C  Zone - D\n",
              "0    Month - 1   1483525   1748451   1523308   2267260\n",
              "1    Month - 2   1238428   1707421   2212113   1994341\n",
              "2    Month - 3   1860771   2091194   1282374   1241600\n",
              "3    Month - 4   1871571   1759617   2290580   2252681\n",
              "4    Month - 5   1244922   1606010   1818334   1326062\n",
              "5    Month - 6   1534390   1573128   1751825   2292044\n",
              "6    Month - 7   1820196   1992031   1786826   1688055\n",
              "7    Month - 8   1625696   1665534   2161754   2363315\n",
              "8    Month - 9   1652644   1873402   1755290   1422059\n",
              "9   Month - 10   1852450   1913059   1754314   1608387\n",
              "10  Month - 11   2004480   1740365   1317869   1970069\n",
              "11  Month - 12   1537539   1875658   1237722   1460165\n",
              "12  Month - 13   1254939   1588473   1348629   1733383\n",
              "13  Month - 14   1821799   1844081   1617376   1872259\n",
              "14  Month - 15   1128185   1804613   1767047   1234311\n",
              "15  Month - 16   1491534   1542053   1882159   1590913\n",
              "16  Month - 17   1182110   1552388   2234469   2180416\n",
              "17  Month - 18   1770324   1699213   1249821   2364132\n",
              "18  Month - 19   1181635   1959268   2009168   1821882\n",
              "19  Month - 20   1305972   1559670   2107949   2151008\n",
              "20  Month - 21   1570152   2013615   1540016   2265814\n",
              "21  Month - 22   1481619   1527574   2255729   2295079\n",
              "22  Month - 23   1887694   1992155   1348387   1459683\n",
              "23  Month - 24   1880820   1752873   2098463   2052591\n",
              "24  Month - 25   1256333   1622671   1521792   1695122\n",
              "25  Month - 26   1422853   1715465   1853636   1520406\n",
              "26  Month - 27   1384426   1983163   1611169   1289160\n",
              "27  Month - 28   1616640   1547991   2128022   2178267\n",
              "28  Month - 29   1310654   1660092   1947119   1854412"
            ]
          },
          "metadata": {},
          "execution_count": 23
        }
      ]
    },
    {
      "cell_type": "code",
      "metadata": {
        "colab": {
          "base_uri": "https://localhost:8080/"
        },
        "id": "Q5BOP4TM63Ab",
        "outputId": "12e2ff6e-9573-4dcb-c37c-b376aa956342"
      },
      "source": [
        "#Summary of the dataset\n",
        "Salesdata.info()"
      ],
      "execution_count": 24,
      "outputs": [
        {
          "output_type": "stream",
          "name": "stdout",
          "text": [
            "<class 'pandas.core.frame.DataFrame'>\n",
            "RangeIndex: 29 entries, 0 to 28\n",
            "Data columns (total 5 columns):\n",
            " #   Column    Non-Null Count  Dtype \n",
            "---  ------    --------------  ----- \n",
            " 0   Month     29 non-null     object\n",
            " 1   Zone - A  29 non-null     int64 \n",
            " 2   Zone - B  29 non-null     int64 \n",
            " 3   Zone - C  29 non-null     int64 \n",
            " 4   Zone - D  29 non-null     int64 \n",
            "dtypes: int64(4), object(1)\n",
            "memory usage: 1.3+ KB\n"
          ]
        }
      ]
    },
    {
      "cell_type": "markdown",
      "source": [
        "**The summary of the dataset shows that there are 29 entries and 5 columns**\n"
      ],
      "metadata": {
        "id": "j-meZW7fp-37"
      }
    },
    {
      "cell_type": "code",
      "metadata": {
        "colab": {
          "base_uri": "https://localhost:8080/"
        },
        "id": "yGJla9CZWBiy",
        "outputId": "4a339230-1f74-4799-f1ef-67547eab0c69"
      },
      "source": [
        "# Calculating the null values present in each column of the dataset\n",
        "Salesdata.isna().sum() # or StudentsPerformance.isnull().sum() "
      ],
      "execution_count": 25,
      "outputs": [
        {
          "output_type": "execute_result",
          "data": {
            "text/plain": [
              "Month       0\n",
              "Zone - A    0\n",
              "Zone - B    0\n",
              "Zone - C    0\n",
              "Zone - D    0\n",
              "dtype: int64"
            ]
          },
          "metadata": {},
          "execution_count": 25
        }
      ]
    },
    {
      "cell_type": "markdown",
      "metadata": {
        "id": "0zYsG7a2Dty3"
      },
      "source": [
        "**No missing values are present in the dataset**\n",
        "\n",
        "\n"
      ]
    },
    {
      "cell_type": "code",
      "metadata": {
        "colab": {
          "base_uri": "https://localhost:8080/",
          "height": 192
        },
        "id": "HCTygDTTsu_m",
        "outputId": "84b10cc5-5103-4a55-cb24-caaba79b2938"
      },
      "source": [
        "#Statistical description of the given dataset\n",
        "Salesdata.describe().T"
      ],
      "execution_count": 6,
      "outputs": [
        {
          "output_type": "execute_result",
          "data": {
            "text/html": [
              "\n",
              "  <div id=\"df-f2c19914-9b95-4057-bdda-ef6d8e6e0969\">\n",
              "    <div class=\"colab-df-container\">\n",
              "      <div>\n",
              "<style scoped>\n",
              "    .dataframe tbody tr th:only-of-type {\n",
              "        vertical-align: middle;\n",
              "    }\n",
              "\n",
              "    .dataframe tbody tr th {\n",
              "        vertical-align: top;\n",
              "    }\n",
              "\n",
              "    .dataframe thead th {\n",
              "        text-align: right;\n",
              "    }\n",
              "</style>\n",
              "<table border=\"1\" class=\"dataframe\">\n",
              "  <thead>\n",
              "    <tr style=\"text-align: right;\">\n",
              "      <th></th>\n",
              "      <th>count</th>\n",
              "      <th>mean</th>\n",
              "      <th>std</th>\n",
              "      <th>min</th>\n",
              "      <th>25%</th>\n",
              "      <th>50%</th>\n",
              "      <th>75%</th>\n",
              "      <th>max</th>\n",
              "    </tr>\n",
              "  </thead>\n",
              "  <tbody>\n",
              "    <tr>\n",
              "      <th>Zone - A</th>\n",
              "      <td>29.0</td>\n",
              "      <td>1.540493e+06</td>\n",
              "      <td>261940.061865</td>\n",
              "      <td>1128185.0</td>\n",
              "      <td>1305972.0</td>\n",
              "      <td>1534390.0</td>\n",
              "      <td>1820196.0</td>\n",
              "      <td>2004480.0</td>\n",
              "    </tr>\n",
              "    <tr>\n",
              "      <th>Zone - B</th>\n",
              "      <td>29.0</td>\n",
              "      <td>1.755560e+06</td>\n",
              "      <td>168389.885896</td>\n",
              "      <td>1527574.0</td>\n",
              "      <td>1606010.0</td>\n",
              "      <td>1740365.0</td>\n",
              "      <td>1875658.0</td>\n",
              "      <td>2091194.0</td>\n",
              "    </tr>\n",
              "    <tr>\n",
              "      <th>Zone - C</th>\n",
              "      <td>29.0</td>\n",
              "      <td>1.772871e+06</td>\n",
              "      <td>333193.724529</td>\n",
              "      <td>1237722.0</td>\n",
              "      <td>1523308.0</td>\n",
              "      <td>1767047.0</td>\n",
              "      <td>2098463.0</td>\n",
              "      <td>2290580.0</td>\n",
              "    </tr>\n",
              "    <tr>\n",
              "      <th>Zone - D</th>\n",
              "      <td>29.0</td>\n",
              "      <td>1.842927e+06</td>\n",
              "      <td>375016.479487</td>\n",
              "      <td>1234311.0</td>\n",
              "      <td>1520406.0</td>\n",
              "      <td>1854412.0</td>\n",
              "      <td>2180416.0</td>\n",
              "      <td>2364132.0</td>\n",
              "    </tr>\n",
              "  </tbody>\n",
              "</table>\n",
              "</div>\n",
              "      <button class=\"colab-df-convert\" onclick=\"convertToInteractive('df-f2c19914-9b95-4057-bdda-ef6d8e6e0969')\"\n",
              "              title=\"Convert this dataframe to an interactive table.\"\n",
              "              style=\"display:none;\">\n",
              "        \n",
              "  <svg xmlns=\"http://www.w3.org/2000/svg\" height=\"24px\"viewBox=\"0 0 24 24\"\n",
              "       width=\"24px\">\n",
              "    <path d=\"M0 0h24v24H0V0z\" fill=\"none\"/>\n",
              "    <path d=\"M18.56 5.44l.94 2.06.94-2.06 2.06-.94-2.06-.94-.94-2.06-.94 2.06-2.06.94zm-11 1L8.5 8.5l.94-2.06 2.06-.94-2.06-.94L8.5 2.5l-.94 2.06-2.06.94zm10 10l.94 2.06.94-2.06 2.06-.94-2.06-.94-.94-2.06-.94 2.06-2.06.94z\"/><path d=\"M17.41 7.96l-1.37-1.37c-.4-.4-.92-.59-1.43-.59-.52 0-1.04.2-1.43.59L10.3 9.45l-7.72 7.72c-.78.78-.78 2.05 0 2.83L4 21.41c.39.39.9.59 1.41.59.51 0 1.02-.2 1.41-.59l7.78-7.78 2.81-2.81c.8-.78.8-2.07 0-2.86zM5.41 20L4 18.59l7.72-7.72 1.47 1.35L5.41 20z\"/>\n",
              "  </svg>\n",
              "      </button>\n",
              "      \n",
              "  <style>\n",
              "    .colab-df-container {\n",
              "      display:flex;\n",
              "      flex-wrap:wrap;\n",
              "      gap: 12px;\n",
              "    }\n",
              "\n",
              "    .colab-df-convert {\n",
              "      background-color: #E8F0FE;\n",
              "      border: none;\n",
              "      border-radius: 50%;\n",
              "      cursor: pointer;\n",
              "      display: none;\n",
              "      fill: #1967D2;\n",
              "      height: 32px;\n",
              "      padding: 0 0 0 0;\n",
              "      width: 32px;\n",
              "    }\n",
              "\n",
              "    .colab-df-convert:hover {\n",
              "      background-color: #E2EBFA;\n",
              "      box-shadow: 0px 1px 2px rgba(60, 64, 67, 0.3), 0px 1px 3px 1px rgba(60, 64, 67, 0.15);\n",
              "      fill: #174EA6;\n",
              "    }\n",
              "\n",
              "    [theme=dark] .colab-df-convert {\n",
              "      background-color: #3B4455;\n",
              "      fill: #D2E3FC;\n",
              "    }\n",
              "\n",
              "    [theme=dark] .colab-df-convert:hover {\n",
              "      background-color: #434B5C;\n",
              "      box-shadow: 0px 1px 3px 1px rgba(0, 0, 0, 0.15);\n",
              "      filter: drop-shadow(0px 1px 2px rgba(0, 0, 0, 0.3));\n",
              "      fill: #FFFFFF;\n",
              "    }\n",
              "  </style>\n",
              "\n",
              "      <script>\n",
              "        const buttonEl =\n",
              "          document.querySelector('#df-f2c19914-9b95-4057-bdda-ef6d8e6e0969 button.colab-df-convert');\n",
              "        buttonEl.style.display =\n",
              "          google.colab.kernel.accessAllowed ? 'block' : 'none';\n",
              "\n",
              "        async function convertToInteractive(key) {\n",
              "          const element = document.querySelector('#df-f2c19914-9b95-4057-bdda-ef6d8e6e0969');\n",
              "          const dataTable =\n",
              "            await google.colab.kernel.invokeFunction('convertToInteractive',\n",
              "                                                     [key], {});\n",
              "          if (!dataTable) return;\n",
              "\n",
              "          const docLinkHtml = 'Like what you see? Visit the ' +\n",
              "            '<a target=\"_blank\" href=https://colab.research.google.com/notebooks/data_table.ipynb>data table notebook</a>'\n",
              "            + ' to learn more about interactive tables.';\n",
              "          element.innerHTML = '';\n",
              "          dataTable['output_type'] = 'display_data';\n",
              "          await google.colab.output.renderOutput(dataTable, element);\n",
              "          const docLink = document.createElement('div');\n",
              "          docLink.innerHTML = docLinkHtml;\n",
              "          element.appendChild(docLink);\n",
              "        }\n",
              "      </script>\n",
              "    </div>\n",
              "  </div>\n",
              "  "
            ],
            "text/plain": [
              "          count          mean            std  ...        50%        75%        max\n",
              "Zone - A   29.0  1.540493e+06  261940.061865  ...  1534390.0  1820196.0  2004480.0\n",
              "Zone - B   29.0  1.755560e+06  168389.885896  ...  1740365.0  1875658.0  2091194.0\n",
              "Zone - C   29.0  1.772871e+06  333193.724529  ...  1767047.0  2098463.0  2290580.0\n",
              "Zone - D   29.0  1.842927e+06  375016.479487  ...  1854412.0  2180416.0  2364132.0\n",
              "\n",
              "[4 rows x 8 columns]"
            ]
          },
          "metadata": {},
          "execution_count": 6
        }
      ]
    },
    {
      "cell_type": "markdown",
      "source": [
        "**Qn.  XYZ Company has offices in four different zones. The company wishes to\n",
        "investigate the following :\n",
        "● The mean sales generated by each zone.\n",
        "● Total sales generated by all the zones for each month.\n",
        "● Check whether all the zones generate the same amount of sales.\n",
        "Help the company to carry out their study with the help of data provided**\n"
      ],
      "metadata": {
        "id": "pZsFCoV3DVDH"
      }
    },
    {
      "cell_type": "markdown",
      "source": [
        "**The mean sales generated by each zone**"
      ],
      "metadata": {
        "id": "4bpAu3Ah5W4C"
      }
    },
    {
      "cell_type": "code",
      "source": [
        "Salesdata.mean(numeric_only=True)"
      ],
      "metadata": {
        "colab": {
          "base_uri": "https://localhost:8080/"
        },
        "id": "N221juLK5nll",
        "outputId": "6a38e3a0-6a88-4592-8bda-c1b3826dcb78"
      },
      "execution_count": 32,
      "outputs": [
        {
          "output_type": "execute_result",
          "data": {
            "text/plain": [
              "Zone - A    1.540493e+06\n",
              "Zone - B    1.755560e+06\n",
              "Zone - C    1.772871e+06\n",
              "Zone - D    1.842927e+06\n",
              "dtype: float64"
            ]
          },
          "metadata": {},
          "execution_count": 32
        }
      ]
    },
    {
      "cell_type": "code",
      "source": [
        "Salesdata.mean(numeric_only=True).apply(\"{0:}\".format)"
      ],
      "metadata": {
        "colab": {
          "base_uri": "https://localhost:8080/"
        },
        "id": "YKfYi9pYJmTa",
        "outputId": "299a9b6f-cf71-4526-fe71-73d8d2dd1e84"
      },
      "execution_count": 31,
      "outputs": [
        {
          "output_type": "execute_result",
          "data": {
            "text/plain": [
              "Zone - A    1540493.1379310344\n",
              "Zone - B    1755559.5862068965\n",
              "Zone - C    1772871.0344827587\n",
              "Zone - D    1842926.7586206896\n",
              "dtype: object"
            ]
          },
          "metadata": {},
          "execution_count": 31
        }
      ]
    },
    {
      "cell_type": "markdown",
      "source": [
        "It is clear that the mean sales of Zone-D is highest(1842926.75) and the mean sales of Zone-A is the lowest (1540493.13)"
      ],
      "metadata": {
        "id": "jqOfthcY5zkO"
      }
    },
    {
      "cell_type": "markdown",
      "source": [
        " **Total sales generated by all the zones for each month**"
      ],
      "metadata": {
        "id": "BJievk5_6mCC"
      }
    },
    {
      "cell_type": "code",
      "source": [
        "df=Salesdata.groupby('Month').sum()\n",
        "df['Total Sales']= df.sum(axis=1)\n",
        "df"
      ],
      "metadata": {
        "colab": {
          "base_uri": "https://localhost:8080/",
          "height": 655
        },
        "id": "1lGxWTsR6qkB",
        "outputId": "42c5c5fe-ab80-4d02-c2e7-fb57f55699f1"
      },
      "execution_count": 33,
      "outputs": [
        {
          "output_type": "execute_result",
          "data": {
            "text/html": [
              "\n",
              "  <div id=\"df-eb0907fb-f4bc-4534-81ff-703940cf362c\">\n",
              "    <div class=\"colab-df-container\">\n",
              "      <div>\n",
              "<style scoped>\n",
              "    .dataframe tbody tr th:only-of-type {\n",
              "        vertical-align: middle;\n",
              "    }\n",
              "\n",
              "    .dataframe tbody tr th {\n",
              "        vertical-align: top;\n",
              "    }\n",
              "\n",
              "    .dataframe thead th {\n",
              "        text-align: right;\n",
              "    }\n",
              "</style>\n",
              "<table border=\"1\" class=\"dataframe\">\n",
              "  <thead>\n",
              "    <tr style=\"text-align: right;\">\n",
              "      <th></th>\n",
              "      <th>Zone - A</th>\n",
              "      <th>Zone - B</th>\n",
              "      <th>Zone - C</th>\n",
              "      <th>Zone - D</th>\n",
              "      <th>Total Sales</th>\n",
              "    </tr>\n",
              "    <tr>\n",
              "      <th>Month</th>\n",
              "      <th></th>\n",
              "      <th></th>\n",
              "      <th></th>\n",
              "      <th></th>\n",
              "      <th></th>\n",
              "    </tr>\n",
              "  </thead>\n",
              "  <tbody>\n",
              "    <tr>\n",
              "      <th>Month - 1</th>\n",
              "      <td>1483525</td>\n",
              "      <td>1748451</td>\n",
              "      <td>1523308</td>\n",
              "      <td>2267260</td>\n",
              "      <td>7022544</td>\n",
              "    </tr>\n",
              "    <tr>\n",
              "      <th>Month - 10</th>\n",
              "      <td>1852450</td>\n",
              "      <td>1913059</td>\n",
              "      <td>1754314</td>\n",
              "      <td>1608387</td>\n",
              "      <td>7128210</td>\n",
              "    </tr>\n",
              "    <tr>\n",
              "      <th>Month - 11</th>\n",
              "      <td>2004480</td>\n",
              "      <td>1740365</td>\n",
              "      <td>1317869</td>\n",
              "      <td>1970069</td>\n",
              "      <td>7032783</td>\n",
              "    </tr>\n",
              "    <tr>\n",
              "      <th>Month - 12</th>\n",
              "      <td>1537539</td>\n",
              "      <td>1875658</td>\n",
              "      <td>1237722</td>\n",
              "      <td>1460165</td>\n",
              "      <td>6111084</td>\n",
              "    </tr>\n",
              "    <tr>\n",
              "      <th>Month - 13</th>\n",
              "      <td>1254939</td>\n",
              "      <td>1588473</td>\n",
              "      <td>1348629</td>\n",
              "      <td>1733383</td>\n",
              "      <td>5925424</td>\n",
              "    </tr>\n",
              "    <tr>\n",
              "      <th>Month - 14</th>\n",
              "      <td>1821799</td>\n",
              "      <td>1844081</td>\n",
              "      <td>1617376</td>\n",
              "      <td>1872259</td>\n",
              "      <td>7155515</td>\n",
              "    </tr>\n",
              "    <tr>\n",
              "      <th>Month - 15</th>\n",
              "      <td>1128185</td>\n",
              "      <td>1804613</td>\n",
              "      <td>1767047</td>\n",
              "      <td>1234311</td>\n",
              "      <td>5934156</td>\n",
              "    </tr>\n",
              "    <tr>\n",
              "      <th>Month - 16</th>\n",
              "      <td>1491534</td>\n",
              "      <td>1542053</td>\n",
              "      <td>1882159</td>\n",
              "      <td>1590913</td>\n",
              "      <td>6506659</td>\n",
              "    </tr>\n",
              "    <tr>\n",
              "      <th>Month - 17</th>\n",
              "      <td>1182110</td>\n",
              "      <td>1552388</td>\n",
              "      <td>2234469</td>\n",
              "      <td>2180416</td>\n",
              "      <td>7149383</td>\n",
              "    </tr>\n",
              "    <tr>\n",
              "      <th>Month - 18</th>\n",
              "      <td>1770324</td>\n",
              "      <td>1699213</td>\n",
              "      <td>1249821</td>\n",
              "      <td>2364132</td>\n",
              "      <td>7083490</td>\n",
              "    </tr>\n",
              "    <tr>\n",
              "      <th>Month - 19</th>\n",
              "      <td>1181635</td>\n",
              "      <td>1959268</td>\n",
              "      <td>2009168</td>\n",
              "      <td>1821882</td>\n",
              "      <td>6971953</td>\n",
              "    </tr>\n",
              "    <tr>\n",
              "      <th>Month - 2</th>\n",
              "      <td>1238428</td>\n",
              "      <td>1707421</td>\n",
              "      <td>2212113</td>\n",
              "      <td>1994341</td>\n",
              "      <td>7152303</td>\n",
              "    </tr>\n",
              "    <tr>\n",
              "      <th>Month - 20</th>\n",
              "      <td>1305972</td>\n",
              "      <td>1559670</td>\n",
              "      <td>2107949</td>\n",
              "      <td>2151008</td>\n",
              "      <td>7124599</td>\n",
              "    </tr>\n",
              "    <tr>\n",
              "      <th>Month - 21</th>\n",
              "      <td>1570152</td>\n",
              "      <td>2013615</td>\n",
              "      <td>1540016</td>\n",
              "      <td>2265814</td>\n",
              "      <td>7389597</td>\n",
              "    </tr>\n",
              "    <tr>\n",
              "      <th>Month - 22</th>\n",
              "      <td>1481619</td>\n",
              "      <td>1527574</td>\n",
              "      <td>2255729</td>\n",
              "      <td>2295079</td>\n",
              "      <td>7560001</td>\n",
              "    </tr>\n",
              "    <tr>\n",
              "      <th>Month - 23</th>\n",
              "      <td>1887694</td>\n",
              "      <td>1992155</td>\n",
              "      <td>1348387</td>\n",
              "      <td>1459683</td>\n",
              "      <td>6687919</td>\n",
              "    </tr>\n",
              "    <tr>\n",
              "      <th>Month - 24</th>\n",
              "      <td>1880820</td>\n",
              "      <td>1752873</td>\n",
              "      <td>2098463</td>\n",
              "      <td>2052591</td>\n",
              "      <td>7784747</td>\n",
              "    </tr>\n",
              "    <tr>\n",
              "      <th>Month - 25</th>\n",
              "      <td>1256333</td>\n",
              "      <td>1622671</td>\n",
              "      <td>1521792</td>\n",
              "      <td>1695122</td>\n",
              "      <td>6095918</td>\n",
              "    </tr>\n",
              "    <tr>\n",
              "      <th>Month - 26</th>\n",
              "      <td>1422853</td>\n",
              "      <td>1715465</td>\n",
              "      <td>1853636</td>\n",
              "      <td>1520406</td>\n",
              "      <td>6512360</td>\n",
              "    </tr>\n",
              "    <tr>\n",
              "      <th>Month - 27</th>\n",
              "      <td>1384426</td>\n",
              "      <td>1983163</td>\n",
              "      <td>1611169</td>\n",
              "      <td>1289160</td>\n",
              "      <td>6267918</td>\n",
              "    </tr>\n",
              "    <tr>\n",
              "      <th>Month - 28</th>\n",
              "      <td>1616640</td>\n",
              "      <td>1547991</td>\n",
              "      <td>2128022</td>\n",
              "      <td>2178267</td>\n",
              "      <td>7470920</td>\n",
              "    </tr>\n",
              "    <tr>\n",
              "      <th>Month - 29</th>\n",
              "      <td>1310654</td>\n",
              "      <td>1660092</td>\n",
              "      <td>1947119</td>\n",
              "      <td>1854412</td>\n",
              "      <td>6772277</td>\n",
              "    </tr>\n",
              "    <tr>\n",
              "      <th>Month - 3</th>\n",
              "      <td>1860771</td>\n",
              "      <td>2091194</td>\n",
              "      <td>1282374</td>\n",
              "      <td>1241600</td>\n",
              "      <td>6475939</td>\n",
              "    </tr>\n",
              "    <tr>\n",
              "      <th>Month - 4</th>\n",
              "      <td>1871571</td>\n",
              "      <td>1759617</td>\n",
              "      <td>2290580</td>\n",
              "      <td>2252681</td>\n",
              "      <td>8174449</td>\n",
              "    </tr>\n",
              "    <tr>\n",
              "      <th>Month - 5</th>\n",
              "      <td>1244922</td>\n",
              "      <td>1606010</td>\n",
              "      <td>1818334</td>\n",
              "      <td>1326062</td>\n",
              "      <td>5995328</td>\n",
              "    </tr>\n",
              "    <tr>\n",
              "      <th>Month - 6</th>\n",
              "      <td>1534390</td>\n",
              "      <td>1573128</td>\n",
              "      <td>1751825</td>\n",
              "      <td>2292044</td>\n",
              "      <td>7151387</td>\n",
              "    </tr>\n",
              "    <tr>\n",
              "      <th>Month - 7</th>\n",
              "      <td>1820196</td>\n",
              "      <td>1992031</td>\n",
              "      <td>1786826</td>\n",
              "      <td>1688055</td>\n",
              "      <td>7287108</td>\n",
              "    </tr>\n",
              "    <tr>\n",
              "      <th>Month - 8</th>\n",
              "      <td>1625696</td>\n",
              "      <td>1665534</td>\n",
              "      <td>2161754</td>\n",
              "      <td>2363315</td>\n",
              "      <td>7816299</td>\n",
              "    </tr>\n",
              "    <tr>\n",
              "      <th>Month - 9</th>\n",
              "      <td>1652644</td>\n",
              "      <td>1873402</td>\n",
              "      <td>1755290</td>\n",
              "      <td>1422059</td>\n",
              "      <td>6703395</td>\n",
              "    </tr>\n",
              "  </tbody>\n",
              "</table>\n",
              "</div>\n",
              "      <button class=\"colab-df-convert\" onclick=\"convertToInteractive('df-eb0907fb-f4bc-4534-81ff-703940cf362c')\"\n",
              "              title=\"Convert this dataframe to an interactive table.\"\n",
              "              style=\"display:none;\">\n",
              "        \n",
              "  <svg xmlns=\"http://www.w3.org/2000/svg\" height=\"24px\"viewBox=\"0 0 24 24\"\n",
              "       width=\"24px\">\n",
              "    <path d=\"M0 0h24v24H0V0z\" fill=\"none\"/>\n",
              "    <path d=\"M18.56 5.44l.94 2.06.94-2.06 2.06-.94-2.06-.94-.94-2.06-.94 2.06-2.06.94zm-11 1L8.5 8.5l.94-2.06 2.06-.94-2.06-.94L8.5 2.5l-.94 2.06-2.06.94zm10 10l.94 2.06.94-2.06 2.06-.94-2.06-.94-.94-2.06-.94 2.06-2.06.94z\"/><path d=\"M17.41 7.96l-1.37-1.37c-.4-.4-.92-.59-1.43-.59-.52 0-1.04.2-1.43.59L10.3 9.45l-7.72 7.72c-.78.78-.78 2.05 0 2.83L4 21.41c.39.39.9.59 1.41.59.51 0 1.02-.2 1.41-.59l7.78-7.78 2.81-2.81c.8-.78.8-2.07 0-2.86zM5.41 20L4 18.59l7.72-7.72 1.47 1.35L5.41 20z\"/>\n",
              "  </svg>\n",
              "      </button>\n",
              "      \n",
              "  <style>\n",
              "    .colab-df-container {\n",
              "      display:flex;\n",
              "      flex-wrap:wrap;\n",
              "      gap: 12px;\n",
              "    }\n",
              "\n",
              "    .colab-df-convert {\n",
              "      background-color: #E8F0FE;\n",
              "      border: none;\n",
              "      border-radius: 50%;\n",
              "      cursor: pointer;\n",
              "      display: none;\n",
              "      fill: #1967D2;\n",
              "      height: 32px;\n",
              "      padding: 0 0 0 0;\n",
              "      width: 32px;\n",
              "    }\n",
              "\n",
              "    .colab-df-convert:hover {\n",
              "      background-color: #E2EBFA;\n",
              "      box-shadow: 0px 1px 2px rgba(60, 64, 67, 0.3), 0px 1px 3px 1px rgba(60, 64, 67, 0.15);\n",
              "      fill: #174EA6;\n",
              "    }\n",
              "\n",
              "    [theme=dark] .colab-df-convert {\n",
              "      background-color: #3B4455;\n",
              "      fill: #D2E3FC;\n",
              "    }\n",
              "\n",
              "    [theme=dark] .colab-df-convert:hover {\n",
              "      background-color: #434B5C;\n",
              "      box-shadow: 0px 1px 3px 1px rgba(0, 0, 0, 0.15);\n",
              "      filter: drop-shadow(0px 1px 2px rgba(0, 0, 0, 0.3));\n",
              "      fill: #FFFFFF;\n",
              "    }\n",
              "  </style>\n",
              "\n",
              "      <script>\n",
              "        const buttonEl =\n",
              "          document.querySelector('#df-eb0907fb-f4bc-4534-81ff-703940cf362c button.colab-df-convert');\n",
              "        buttonEl.style.display =\n",
              "          google.colab.kernel.accessAllowed ? 'block' : 'none';\n",
              "\n",
              "        async function convertToInteractive(key) {\n",
              "          const element = document.querySelector('#df-eb0907fb-f4bc-4534-81ff-703940cf362c');\n",
              "          const dataTable =\n",
              "            await google.colab.kernel.invokeFunction('convertToInteractive',\n",
              "                                                     [key], {});\n",
              "          if (!dataTable) return;\n",
              "\n",
              "          const docLinkHtml = 'Like what you see? Visit the ' +\n",
              "            '<a target=\"_blank\" href=https://colab.research.google.com/notebooks/data_table.ipynb>data table notebook</a>'\n",
              "            + ' to learn more about interactive tables.';\n",
              "          element.innerHTML = '';\n",
              "          dataTable['output_type'] = 'display_data';\n",
              "          await google.colab.output.renderOutput(dataTable, element);\n",
              "          const docLink = document.createElement('div');\n",
              "          docLink.innerHTML = docLinkHtml;\n",
              "          element.appendChild(docLink);\n",
              "        }\n",
              "      </script>\n",
              "    </div>\n",
              "  </div>\n",
              "  "
            ],
            "text/plain": [
              "            Zone - A  Zone - B  Zone - C  Zone - D  Total Sales\n",
              "Month                                                          \n",
              "Month - 1    1483525   1748451   1523308   2267260      7022544\n",
              "Month - 10   1852450   1913059   1754314   1608387      7128210\n",
              "Month - 11   2004480   1740365   1317869   1970069      7032783\n",
              "Month - 12   1537539   1875658   1237722   1460165      6111084\n",
              "Month - 13   1254939   1588473   1348629   1733383      5925424\n",
              "Month - 14   1821799   1844081   1617376   1872259      7155515\n",
              "Month - 15   1128185   1804613   1767047   1234311      5934156\n",
              "Month - 16   1491534   1542053   1882159   1590913      6506659\n",
              "Month - 17   1182110   1552388   2234469   2180416      7149383\n",
              "Month - 18   1770324   1699213   1249821   2364132      7083490\n",
              "Month - 19   1181635   1959268   2009168   1821882      6971953\n",
              "Month - 2    1238428   1707421   2212113   1994341      7152303\n",
              "Month - 20   1305972   1559670   2107949   2151008      7124599\n",
              "Month - 21   1570152   2013615   1540016   2265814      7389597\n",
              "Month - 22   1481619   1527574   2255729   2295079      7560001\n",
              "Month - 23   1887694   1992155   1348387   1459683      6687919\n",
              "Month - 24   1880820   1752873   2098463   2052591      7784747\n",
              "Month - 25   1256333   1622671   1521792   1695122      6095918\n",
              "Month - 26   1422853   1715465   1853636   1520406      6512360\n",
              "Month - 27   1384426   1983163   1611169   1289160      6267918\n",
              "Month - 28   1616640   1547991   2128022   2178267      7470920\n",
              "Month - 29   1310654   1660092   1947119   1854412      6772277\n",
              "Month - 3    1860771   2091194   1282374   1241600      6475939\n",
              "Month - 4    1871571   1759617   2290580   2252681      8174449\n",
              "Month - 5    1244922   1606010   1818334   1326062      5995328\n",
              "Month - 6    1534390   1573128   1751825   2292044      7151387\n",
              "Month - 7    1820196   1992031   1786826   1688055      7287108\n",
              "Month - 8    1625696   1665534   2161754   2363315      7816299\n",
              "Month - 9    1652644   1873402   1755290   1422059      6703395"
            ]
          },
          "metadata": {},
          "execution_count": 33
        }
      ]
    },
    {
      "cell_type": "markdown",
      "source": [
        "**Check whether all the zones generate the same amount of sales**"
      ],
      "metadata": {
        "id": "M8hiDmvr7Tua"
      }
    },
    {
      "cell_type": "markdown",
      "source": [
        "Here, the question is to check the factor, amount of sales for all the different four zones and therefore we need to perform one way ANOVA. Therefore we need to set the hypotheses.\n",
        "\n",
        "Null Hypothesis,H0:All the zones generate the same amount of sales\n",
        "Alternate Hypothesis,Ha: All the zones do not generate the same amount of sales\n",
        "\n",
        "\n"
      ],
      "metadata": {
        "id": "som-u-3s70UZ"
      }
    },
    {
      "cell_type": "code",
      "source": [
        "fvalue,pvalue=scp.f_oneway(Salesdata['Zone - A'],Salesdata['Zone - B'],Salesdata['Zone - C'],Salesdata['Zone - D'])\n",
        "fcriteria=scp.f.ppf(1-0.05,3,112)\n"
      ],
      "metadata": {
        "id": "WFnzLIcCFD6S"
      },
      "execution_count": 34,
      "outputs": []
    },
    {
      "cell_type": "code",
      "source": [
        "fvalue"
      ],
      "metadata": {
        "colab": {
          "base_uri": "https://localhost:8080/"
        },
        "id": "BhoGNnPRFcAz",
        "outputId": "d0840db3-3e51-490f-e8d1-e1a033d05602"
      },
      "execution_count": 35,
      "outputs": [
        {
          "output_type": "execute_result",
          "data": {
            "text/plain": [
              "5.672056106843581"
            ]
          },
          "metadata": {},
          "execution_count": 35
        }
      ]
    },
    {
      "cell_type": "code",
      "source": [
        "pvalue"
      ],
      "metadata": {
        "colab": {
          "base_uri": "https://localhost:8080/"
        },
        "id": "WUmTJNG1Fmja",
        "outputId": "9429a007-b7ed-493a-c54e-c6840c4f45c5"
      },
      "execution_count": 36,
      "outputs": [
        {
          "output_type": "execute_result",
          "data": {
            "text/plain": [
              "0.0011827601694503335"
            ]
          },
          "metadata": {},
          "execution_count": 36
        }
      ]
    },
    {
      "cell_type": "code",
      "source": [
        "fcriteria"
      ],
      "metadata": {
        "colab": {
          "base_uri": "https://localhost:8080/"
        },
        "id": "Q3Qd69TNFhWJ",
        "outputId": "7d0fa743-7db5-4905-9249-333a4578b074"
      },
      "execution_count": 37,
      "outputs": [
        {
          "output_type": "execute_result",
          "data": {
            "text/plain": [
              "2.6856434512366034"
            ]
          },
          "metadata": {},
          "execution_count": 37
        }
      ]
    },
    {
      "cell_type": "markdown",
      "source": [
        "Next step is to Make Decision_ we need to compare f value with fcriteria and also the level of significance value (0.05 if not given) and if p is less than significance level, null hypothesis will be rejected"
      ],
      "metadata": {
        "id": "vT5cNnmWHIVY"
      }
    },
    {
      "cell_type": "code",
      "source": [
        "if fvalue>fcriteria and pvalue<0.05:\n",
        "   print('Reject H0: All the zones generate the same amount of sales Alternate Hypothesis')\n",
        "else:\n",
        "   print('Reject Ha: All the zones do not generate the same amount of sales')"
      ],
      "metadata": {
        "colab": {
          "base_uri": "https://localhost:8080/"
        },
        "id": "-_gvPPNIHWh7",
        "outputId": "288c5485-16e1-450d-9800-4a8198ac00d7"
      },
      "execution_count": 38,
      "outputs": [
        {
          "output_type": "stream",
          "name": "stdout",
          "text": [
            "Reject H0: All the zones generate the same amount of sales Alternate Hypothesis\n"
          ]
        }
      ]
    },
    {
      "cell_type": "markdown",
      "source": [
        "**It is clear from the variance analysis that all the zones do not generate the same amount of sales**"
      ],
      "metadata": {
        "id": "guq0mLF0II5U"
      }
    }
  ]
}